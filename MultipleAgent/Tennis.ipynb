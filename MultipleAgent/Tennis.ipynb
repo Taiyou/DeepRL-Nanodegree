{
 "cells": [
  {
   "cell_type": "markdown",
   "metadata": {},
   "source": [
    "# Collaboration and Competition\n",
    "\n",
    "---\n",
    "\n",
    "In this notebook, you will learn how to use the Unity ML-Agents environment for the third project of the [Deep Reinforcement Learning Nanodegree](https://www.udacity.com/course/deep-reinforcement-learning-nanodegree--nd893) program.\n",
    "\n",
    "### 1. Start the Environment\n",
    "\n",
    "We begin by importing the necessary packages.  If the code cell below returns an error, please revisit the project instructions to double-check that you have installed [Unity ML-Agents](https://github.com/Unity-Technologies/ml-agents/blob/master/docs/Installation.md) and [NumPy](http://www.numpy.org/)."
   ]
  },
  {
   "cell_type": "code",
   "execution_count": 1,
   "metadata": {},
   "outputs": [],
   "source": [
    "import gym\n",
    "import random\n",
    "import os\n",
    "import torch\n",
    "import numpy as np\n",
    "from collections import deque\n",
    "import matplotlib.pyplot as plt\n",
    "%matplotlib inline\n",
    "\n",
    "from ddpg_agent import Agent"
   ]
  },
  {
   "cell_type": "code",
   "execution_count": 2,
   "metadata": {},
   "outputs": [],
   "source": [
    "from unityagents import UnityEnvironment\n",
    "import numpy as np"
   ]
  },
  {
   "cell_type": "markdown",
   "metadata": {},
   "source": [
    "Next, we will start the environment!  **_Before running the code cell below_**, change the `file_name` parameter to match the location of the Unity environment that you downloaded.\n",
    "\n",
    "- **Mac**: `\"path/to/Tennis.app\"`\n",
    "- **Windows** (x86): `\"path/to/Tennis_Windows_x86/Tennis.exe\"`\n",
    "- **Windows** (x86_64): `\"path/to/Tennis_Windows_x86_64/Tennis.exe\"`\n",
    "- **Linux** (x86): `\"path/to/Tennis_Linux/Tennis.x86\"`\n",
    "- **Linux** (x86_64): `\"path/to/Tennis_Linux/Tennis.x86_64\"`\n",
    "- **Linux** (x86, headless): `\"path/to/Tennis_Linux_NoVis/Tennis.x86\"`\n",
    "- **Linux** (x86_64, headless): `\"path/to/Tennis_Linux_NoVis/Tennis.x86_64\"`\n",
    "\n",
    "For instance, if you are using a Mac, then you downloaded `Tennis.app`.  If this file is in the same folder as the notebook, then the line below should appear as follows:\n",
    "```\n",
    "env = UnityEnvironment(file_name=\"Tennis.app\")\n",
    "```"
   ]
  },
  {
   "cell_type": "code",
   "execution_count": 3,
   "metadata": {},
   "outputs": [
    {
     "name": "stderr",
     "output_type": "stream",
     "text": [
      "INFO:unityagents:\n",
      "'Academy' started successfully!\n",
      "Unity Academy name: Academy\n",
      "        Number of Brains: 1\n",
      "        Number of External Brains : 1\n",
      "        Lesson number : 0\n",
      "        Reset Parameters :\n",
      "\t\t\n",
      "Unity brain name: TennisBrain\n",
      "        Number of Visual Observations (per agent): 0\n",
      "        Vector Observation space type: continuous\n",
      "        Vector Observation space size (per agent): 8\n",
      "        Number of stacked Vector Observation: 3\n",
      "        Vector Action space type: continuous\n",
      "        Vector Action space size (per agent): 2\n",
      "        Vector Action descriptions: , \n"
     ]
    }
   ],
   "source": [
    "env = UnityEnvironment(file_name=\"/Users/hiroaki-hamada/Documents/Udacity/Project3/Tennis.app\")"
   ]
  },
  {
   "cell_type": "markdown",
   "metadata": {},
   "source": [
    "Environments contain **_brains_** which are responsible for deciding the actions of their associated agents. Here we check for the first brain available, and set it as the default brain we will be controlling from Python."
   ]
  },
  {
   "cell_type": "code",
   "execution_count": 4,
   "metadata": {},
   "outputs": [],
   "source": [
    "# get the default brain\n",
    "brain_name = env.brain_names[0]\n",
    "brain = env.brains[brain_name]"
   ]
  },
  {
   "cell_type": "markdown",
   "metadata": {},
   "source": [
    "### 2. Examine the State and Action Spaces\n",
    "\n",
    "In this environment, two agents control rackets to bounce a ball over a net. If an agent hits the ball over the net, it receives a reward of +0.1.  If an agent lets a ball hit the ground or hits the ball out of bounds, it receives a reward of -0.01.  Thus, the goal of each agent is to keep the ball in play.\n",
    "\n",
    "The observation space consists of 8 variables corresponding to the position and velocity of the ball and racket. Two continuous actions are available, corresponding to movement toward (or away from) the net, and jumping. \n",
    "\n",
    "Run the code cell below to print some information about the environment."
   ]
  },
  {
   "cell_type": "code",
   "execution_count": 5,
   "metadata": {},
   "outputs": [
    {
     "name": "stdout",
     "output_type": "stream",
     "text": [
      "Number of agents: 2\n",
      "Size of each action: 2\n",
      "There are 2 agents. Each observes a state with length: 24\n",
      "The state for the first agent looks like: [ 0.          0.          0.          0.          0.          0.\n",
      "  0.          0.          0.          0.          0.          0.\n",
      "  0.          0.          0.          0.         -6.65278625 -1.5\n",
      " -0.          0.          6.83172083  6.         -0.          0.        ]\n"
     ]
    }
   ],
   "source": [
    "# reset the environment\n",
    "env_info = env.reset(train_mode=True)[brain_name]\n",
    "\n",
    "# number of agents \n",
    "num_agents = len(env_info.agents)\n",
    "print('Number of agents:', num_agents)\n",
    "\n",
    "# size of each action\n",
    "action_size = brain.vector_action_space_size\n",
    "print('Size of each action:', action_size)\n",
    "\n",
    "# examine the state space \n",
    "states = env_info.vector_observations\n",
    "state_size = states.shape[1]\n",
    "print('There are {} agents. Each observes a state with length: {}'.format(states.shape[0], state_size))\n",
    "print('The state for the first agent looks like:', states[0])"
   ]
  },
  {
   "cell_type": "markdown",
   "metadata": {},
   "source": [
    "### 3. Take Random Actions in the Environment\n",
    "\n",
    "In the next code cell, you will learn how to use the Python API to control the agents and receive feedback from the environment.\n",
    "\n",
    "Once this cell is executed, you will watch the agents' performance, if they select actions at random with each time step.  A window should pop up that allows you to observe the agents.\n",
    "\n",
    "Of course, as part of the project, you'll have to change the code so that the agents are able to use their experiences to gradually choose better actions when interacting with the environment!"
   ]
  },
  {
   "cell_type": "code",
   "execution_count": 6,
   "metadata": {},
   "outputs": [],
   "source": [
    "#for i in range(1, 6):                                      # play game for 5 episodes\n",
    "#    env_info = env.reset(train_mode=False)[brain_name]     # reset the environment    \n",
    "#    states = env_info.vector_observations                  # get the current state (for each agent)\n",
    "#    scores = np.zeros(num_agents)                          # initialize the score (for each agent)\n",
    "#    while True:\n",
    "#        actions = np.random.randn(num_agents, action_size) # select an action (for each agent)\n",
    "#        actions = np.clip(actions, -1, 1)                  # all actions between -1 and 1\n",
    "#        env_info = env.step(actions)[brain_name]           # send all actions to tne environment\n",
    "#        next_states = env_info.vector_observations         # get next state (for each agent)\n",
    "#        rewards = env_info.rewards                         # get reward (for each agent)\n",
    "#        dones = env_info.local_done                        # see if episode finished\n",
    "#        scores += env_info.rewards                         # update the score (for each agent)\n",
    "#        states = next_states                               # roll over states to next time step\n",
    "#        if np.any(dones):                                  # exit loop if episode finished\n",
    "#            break\n",
    "#    print('Score (max over agents) from episode {}: {}'.format(i, np.max(scores)))"
   ]
  },
  {
   "cell_type": "markdown",
   "metadata": {},
   "source": [
    "When finished, you can close the environment."
   ]
  },
  {
   "cell_type": "code",
   "execution_count": 7,
   "metadata": {},
   "outputs": [],
   "source": [
    "#env.close()"
   ]
  },
  {
   "cell_type": "markdown",
   "metadata": {},
   "source": [
    "### 4. It's Your Turn!\n",
    "\n",
    "Now it's your turn to train your own agent to solve the environment!  When training the environment, set `train_mode=True`, so that the line for resetting the environment looks like the following:\n",
    "```python\n",
    "env_info = env.reset(train_mode=True)[brain_name]\n",
    "```"
   ]
  },
  {
   "cell_type": "code",
   "execution_count": 8,
   "metadata": {},
   "outputs": [],
   "source": [
    "def ddpg(print_every=10, max_t=10000, learn_every=20, num_learn=10):\n",
    "    n_episodes = 1000\n",
    "    scores = []\n",
    "    scores_window = deque(maxlen=100)\n",
    "    scores_maximum = deque(maxlen=100)\n",
    "\n",
    "    for episode in range(n_episodes):\n",
    "        env_info = env.reset(train_mode=True)[brain_name]            # reset the environment\n",
    "        agent.reset() \n",
    "        states = env_info.vector_observations\n",
    "        score = np.zeros(n_agents)\n",
    "        \n",
    "        for t in range(max_t):\n",
    "            actions = agent.act(states)\n",
    "        \n",
    "            env_info = env.step( actions )[brain_name]               # send the action to the environment                            \n",
    "            next_states = env_info.vector_observations               # get the next state        \n",
    "            rewards = env_info.rewards                               # get the reward        \n",
    "            dones = env_info.local_done                              # see if episode has finished        \n",
    "\n",
    "            for state, action, reward, next_state, done in zip(states, actions, rewards, next_states, dones):\n",
    "                agent.step(state, action, reward, next_state, done) # send actions to the agent\n",
    "\n",
    "            score += env_info.rewards                                         # update the score\n",
    "        \n",
    "            states = next_states                                     # roll over the state to next time step        \n",
    "                                                      \n",
    "            if t%learn_every == 0:\n",
    "                for _ in range(num_learn):\n",
    "                    agent.start_learn()\n",
    "                    \n",
    "            if np.any( dones ):                                          # exit loop if episode finished        \n",
    "                break                                        \n",
    "\n",
    "        scores.append(np.max(score))\n",
    "        scores_window.append(score)\n",
    "        scores_maximum.append(np.max(score))\n",
    "\n",
    "        print('\\rEpisode {} \\t Score: {:.2f} \\tSimple average Score: {:.2f}, \\tAverage maximum Score: {:.2f}'.format(episode, np.max(score), np.mean( scores_window), np.mean( scores_maximum)), end=\"\")\n",
    "        \n",
    "        if episode % print_every == 0:\n",
    "            print('\\rEpisode {} \\t Score: {:.2f} \\tSimple average Score: {:.2f}, \\tAverage maximum Score: {:.2f}'.format(episode, np.max(score), np.mean( scores_window), np.mean( scores_maximum)))\n",
    "            torch.save(agent.actor_local.state_dict(), 'checkpoint_actor.pth')\n",
    "            torch.save(agent.critic_local.state_dict(), 'checkpoint_critic.pth')\n",
    "        \n",
    "        if np.mean(scores_maximum)>= 0.5 and episode >= 100:\n",
    "            print('\\rEpisode {} \\t Score: {:.2f} \\tSimple average Score: {:.2f}, \\tAverage maximum Score: {:.2f}'.format(episode, np.max(score), np.mean( scores_window), np.mean( scores_maximum)))\n",
    "            torch.save(agent.actor_local.state_dict(), 'checkpoint_actor.pth')\n",
    "            torch.save(agent.critic_local.state_dict(), 'checkpoint_critic.pth')\n",
    "            break\n",
    "    \n",
    "    return scores\n"
   ]
  },
  {
   "cell_type": "code",
   "execution_count": 9,
   "metadata": {},
   "outputs": [],
   "source": [
    "from ddpg_agent import Agent\n",
    "n_agents = len(env_info.agents)\n",
    "CHECKPOINT_FOLDER = './'\n",
    "\n",
    "agent = Agent(state_size=state_size, action_size=action_size, random_seed=10)"
   ]
  },
  {
   "cell_type": "code",
   "execution_count": 10,
   "metadata": {},
   "outputs": [
    {
     "name": "stdout",
     "output_type": "stream",
     "text": [
      "Episode 0 \t Score: 0.00 \tSimple average Score: -0.00, \tAverage maximum Score: 0.00\n",
      "Episode 10 \t Score: 0.00 \tSimple average Score: -0.00, \tAverage maximum Score: 0.00\n",
      "Episode 20 \t Score: 0.00 \tSimple average Score: -0.00, \tAverage maximum Score: 0.00\n",
      "Episode 30 \t Score: 0.00 \tSimple average Score: -0.00, \tAverage maximum Score: 0.00\n",
      "Episode 40 \t Score: 0.00 \tSimple average Score: -0.00, \tAverage maximum Score: 0.00\n",
      "Episode 50 \t Score: 0.00 \tSimple average Score: -0.00, \tAverage maximum Score: 0.00\n",
      "Episode 60 \t Score: 0.00 \tSimple average Score: -0.00, \tAverage maximum Score: 0.00\n",
      "Episode 70 \t Score: 0.00 \tSimple average Score: -0.00, \tAverage maximum Score: 0.00\n",
      "Episode 80 \t Score: 0.00 \tSimple average Score: -0.00, \tAverage maximum Score: 0.01\n",
      "Episode 90 \t Score: 0.00 \tSimple average Score: 0.00, \tAverage maximum Score: 0.011\n",
      "Episode 100 \t Score: 0.09 \tSimple average Score: 0.00, \tAverage maximum Score: 0.01\n",
      "Episode 110 \t Score: 0.00 \tSimple average Score: 0.00, \tAverage maximum Score: 0.01\n",
      "Episode 120 \t Score: 0.00 \tSimple average Score: 0.00, \tAverage maximum Score: 0.02\n",
      "Episode 130 \t Score: 0.00 \tSimple average Score: 0.01, \tAverage maximum Score: 0.02\n",
      "Episode 140 \t Score: 0.10 \tSimple average Score: 0.01, \tAverage maximum Score: 0.02\n",
      "Episode 150 \t Score: 0.00 \tSimple average Score: 0.01, \tAverage maximum Score: 0.02\n",
      "Episode 160 \t Score: 0.00 \tSimple average Score: 0.01, \tAverage maximum Score: 0.02\n",
      "Episode 170 \t Score: 0.00 \tSimple average Score: 0.01, \tAverage maximum Score: 0.02\n",
      "Episode 180 \t Score: 0.00 \tSimple average Score: 0.01, \tAverage maximum Score: 0.02\n",
      "Episode 190 \t Score: 0.00 \tSimple average Score: 0.01, \tAverage maximum Score: 0.02\n",
      "Episode 200 \t Score: 0.00 \tSimple average Score: 0.01, \tAverage maximum Score: 0.02\n",
      "Episode 210 \t Score: 0.10 \tSimple average Score: 0.01, \tAverage maximum Score: 0.02\n",
      "Episode 220 \t Score: 0.00 \tSimple average Score: 0.01, \tAverage maximum Score: 0.02\n",
      "Episode 230 \t Score: 0.00 \tSimple average Score: 0.01, \tAverage maximum Score: 0.02\n",
      "Episode 240 \t Score: 0.00 \tSimple average Score: 0.01, \tAverage maximum Score: 0.02\n",
      "Episode 250 \t Score: 0.00 \tSimple average Score: 0.00, \tAverage maximum Score: 0.02\n",
      "Episode 260 \t Score: 0.00 \tSimple average Score: 0.00, \tAverage maximum Score: 0.01\n",
      "Episode 270 \t Score: 0.00 \tSimple average Score: 0.00, \tAverage maximum Score: 0.01\n",
      "Episode 280 \t Score: 0.00 \tSimple average Score: 0.00, \tAverage maximum Score: 0.01\n",
      "Episode 290 \t Score: 0.10 \tSimple average Score: 0.00, \tAverage maximum Score: 0.01\n",
      "Episode 300 \t Score: 0.00 \tSimple average Score: 0.00, \tAverage maximum Score: 0.01\n",
      "Episode 310 \t Score: 0.10 \tSimple average Score: -0.00, \tAverage maximum Score: 0.01\n",
      "Episode 320 \t Score: 0.09 \tSimple average Score: -0.00, \tAverage maximum Score: 0.01\n",
      "Episode 330 \t Score: 0.00 \tSimple average Score: 0.00, \tAverage maximum Score: 0.011\n",
      "Episode 340 \t Score: 0.10 \tSimple average Score: 0.00, \tAverage maximum Score: 0.01\n",
      "Episode 350 \t Score: 0.00 \tSimple average Score: 0.00, \tAverage maximum Score: 0.02\n",
      "Episode 360 \t Score: 0.10 \tSimple average Score: 0.01, \tAverage maximum Score: 0.02\n",
      "Episode 370 \t Score: 0.00 \tSimple average Score: 0.01, \tAverage maximum Score: 0.03\n",
      "Episode 380 \t Score: 0.00 \tSimple average Score: 0.01, \tAverage maximum Score: 0.03\n",
      "Episode 390 \t Score: 0.10 \tSimple average Score: 0.02, \tAverage maximum Score: 0.04\n",
      "Episode 400 \t Score: 0.10 \tSimple average Score: 0.02, \tAverage maximum Score: 0.05\n",
      "Episode 410 \t Score: 0.10 \tSimple average Score: 0.03, \tAverage maximum Score: 0.06\n",
      "Episode 420 \t Score: 0.10 \tSimple average Score: 0.03, \tAverage maximum Score: 0.06\n",
      "Episode 430 \t Score: 0.10 \tSimple average Score: 0.03, \tAverage maximum Score: 0.07\n",
      "Episode 440 \t Score: 0.10 \tSimple average Score: 0.04, \tAverage maximum Score: 0.08\n",
      "Episode 450 \t Score: 0.10 \tSimple average Score: 0.05, \tAverage maximum Score: 0.09\n",
      "Episode 460 \t Score: 0.09 \tSimple average Score: 0.05, \tAverage maximum Score: 0.09\n",
      "Episode 470 \t Score: 0.10 \tSimple average Score: 0.05, \tAverage maximum Score: 0.09\n",
      "Episode 480 \t Score: 0.10 \tSimple average Score: 0.06, \tAverage maximum Score: 0.10\n",
      "Episode 490 \t Score: 0.50 \tSimple average Score: 0.08, \tAverage maximum Score: 0.12\n",
      "Episode 500 \t Score: 0.30 \tSimple average Score: 0.18, \tAverage maximum Score: 0.22\n",
      "Episode 510 \t Score: 0.60 \tSimple average Score: 0.22, \tAverage maximum Score: 0.26\n",
      "Episode 520 \t Score: 2.10 \tSimple average Score: 0.28, \tAverage maximum Score: 0.32\n",
      "Episode 530 \t Score: 1.90 \tSimple average Score: 0.33, \tAverage maximum Score: 0.36\n",
      "Episode 540 \t Score: 0.20 \tSimple average Score: 0.36, \tAverage maximum Score: 0.39\n",
      "Episode 550 \t Score: 0.80 \tSimple average Score: 0.37, \tAverage maximum Score: 0.41\n",
      "Episode 560 \t Score: 0.10 \tSimple average Score: 0.37, \tAverage maximum Score: 0.41\n",
      "Episode 570 \t Score: 0.70 \tSimple average Score: 0.39, \tAverage maximum Score: 0.43\n",
      "Episode 580 \t Score: 0.40 \tSimple average Score: 0.40, \tAverage maximum Score: 0.44\n",
      "Episode 590 \t Score: 0.10 \tSimple average Score: 0.40, \tAverage maximum Score: 0.44\n",
      "Episode 600 \t Score: 0.30 \tSimple average Score: 0.32, \tAverage maximum Score: 0.35\n",
      "Episode 610 \t Score: 0.90 \tSimple average Score: 0.31, \tAverage maximum Score: 0.34\n",
      "Episode 620 \t Score: 0.69 \tSimple average Score: 0.28, \tAverage maximum Score: 0.32\n",
      "Episode 630 \t Score: 0.60 \tSimple average Score: 0.28, \tAverage maximum Score: 0.32\n",
      "Episode 640 \t Score: 2.70 \tSimple average Score: 0.33, \tAverage maximum Score: 0.37\n",
      "Episode 650 \t Score: 0.00 \tSimple average Score: 0.41, \tAverage maximum Score: 0.44\n",
      "Episode 655 \t Score: 2.60 \tSimple average Score: 0.49, \tAverage maximum Score: 0.52\n"
     ]
    }
   ],
   "source": [
    "scores = ddpg()"
   ]
  },
  {
   "cell_type": "code",
   "execution_count": 19,
   "metadata": {},
   "outputs": [
    {
     "name": "stdout",
     "output_type": "stream",
     "text": [
      "\r",
      "Environement was solved in Episode 655 \tAverage maximum Score: 2.60\n"
     ]
    }
   ],
   "source": [
    "episode = len(scores)-1;\n",
    "print('\\rEnvironement was solved in Episode {} \\tAverage maximum Score: {:.2f}'.format(episode, scores[episode]))"
   ]
  },
  {
   "cell_type": "code",
   "execution_count": 20,
   "metadata": {},
   "outputs": [
    {
     "data": {
      "text/plain": [
       "Text(0, 0.5, 'Average Scores')"
      ]
     },
     "execution_count": 20,
     "metadata": {},
     "output_type": "execute_result"
    },
    {
     "data": {
      "image/png": "[encoded data removed]",
      "text/plain": [
       "<Figure size 432x288 with 1 Axes>"
      ]
     },
     "metadata": {
      "needs_background": "light"
     },
     "output_type": "display_data"
    }
   ],
   "source": [
    "x = np.linspace(0,len(scores)-1,len(scores))\n",
    "plt.plot(x, scores)\n",
    "plt.xlabel('Episode')\n",
    "plt.ylabel('Average Scores')"
   ]
  },
  {
   "cell_type": "code",
   "execution_count": 25,
   "metadata": {},
   "outputs": [
    {
     "name": "stdout",
     "output_type": "stream",
     "text": [
      "Score: 0.800000011920929\n"
     ]
    }
   ],
   "source": [
    "\n",
    "agent.actor_local.load_state_dict(torch.load('checkpoint_actor.pth', map_location='cpu'))\n",
    "agent.critic_local.load_state_dict(torch.load('checkpoint_critic.pth', map_location='cpu'))\n",
    "\n",
    "env_info = env.reset(train_mode=False)[brain_name]     # reset the environment    \n",
    "states = env_info.vector_observations                  # get the current state (for each agent)\n",
    "scores = np.zeros(num_agents)                          # initialize the score (for each agent)\n",
    "\n",
    "while True:\n",
    "    actions = agent.act(states)                        # select actions from loaded model agent\n",
    "    env_info = env.step(actions)[brain_name]           # send all actions to tne environment\n",
    "    next_states = env_info.vector_observations         # get next state (for each agent)\n",
    "    rewards = env_info.rewards                         # get reward (for each agent)\n",
    "    dones = env_info.local_done                        # see if episode finished\n",
    "    scores += env_info.rewards                         # update the score (for each agent)\n",
    "    states = next_states                               # roll over states to next time step\n",
    "    if np.any(dones):                                  # exit loop if episode finished\n",
    "        break\n",
    "        \n",
    "print('Score: {}'.format(np.max(scores)))"
   ]
  },
  {
   "cell_type": "code",
   "execution_count": 27,
   "metadata": {},
   "outputs": [],
   "source": [
    "env.close()"
   ]
  },
  {
   "cell_type": "code",
   "execution_count": null,
   "metadata": {},
   "outputs": [],
   "source": []
  }
 ],
 "metadata": {
  "kernelspec": {
   "display_name": "Python 3",
   "language": "python",
   "name": "python3"
  },
  "language_info": {
   "codemirror_mode": {
    "name": "ipython",
    "version": 3
   },
   "file_extension": ".py",
   "mimetype": "text/x-python",
   "name": "python",
   "nbconvert_exporter": "python",
   "pygments_lexer": "ipython3",
   "version": "3.6.8"
  }
 },
 "nbformat": 4,
 "nbformat_minor": 2
}
